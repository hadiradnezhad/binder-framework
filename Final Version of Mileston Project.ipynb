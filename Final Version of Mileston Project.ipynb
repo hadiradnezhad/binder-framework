{
 "cells": [
  {
   "cell_type": "markdown",
   "id": "8c609ff7",
   "metadata": {},
   "source": [
    "# Value of Energy Cost Saving Program for businesses in New York City"
   ]
  },
  {
   "cell_type": "markdown",
   "id": "301e0951",
   "metadata": {},
   "source": [
    "## Import"
   ]
  },
  {
   "cell_type": "code",
   "execution_count": 1,
   "id": "8d30db56",
   "metadata": {},
   "outputs": [],
   "source": [
    "# import libraries that we need in this part\n",
    "import pandas as pd\n",
    "import numpy as np\n",
    "import matplotlib.pyplot as plt\n",
    "import math"
   ]
  },
  {
   "cell_type": "markdown",
   "id": "82980c5c",
   "metadata": {},
   "source": [
    "### Download csv file from web site and save on my directory Read csv file from directory"
   ]
  },
  {
   "cell_type": "code",
   "execution_count": 23,
   "id": "d4396fce",
   "metadata": {},
   "outputs": [],
   "source": [
    "df = pd.read_csv(\"https://data.cityofnewyork.us/api/views/bug8-9f3g/rows.csv?accessType=DOWNLOAD\")"
   ]
  },
  {
   "cell_type": "code",
   "execution_count": 3,
   "id": "f95e5e79",
   "metadata": {},
   "outputs": [
    {
     "name": "stdout",
     "output_type": "stream",
     "text": [
      "<class 'pandas.core.frame.DataFrame'>\n",
      "RangeIndex: 450 entries, 0 to 449\n",
      "Data columns (total 26 columns):\n",
      " #   Column                                     Non-Null Count  Dtype  \n",
      "---  ------                                     --------------  -----  \n",
      " 0   Company Name                               450 non-null    object \n",
      " 1   company contact                            450 non-null    object \n",
      " 2   company email                              433 non-null    object \n",
      " 3   company phone                              450 non-null    object \n",
      " 4   Address                                    450 non-null    object \n",
      " 5   City                                       450 non-null    object \n",
      " 6   State                                      450 non-null    object \n",
      " 7   Postcode                                   450 non-null    int64  \n",
      " 8   Industry                                   450 non-null    object \n",
      " 9   Industry descr                             434 non-null    object \n",
      " 10  Company Type                               450 non-null    object \n",
      " 11  Current fulltime                           446 non-null    float64\n",
      " 12  Job created                                11 non-null     float64\n",
      " 13  Job retain                                 14 non-null     float64\n",
      " 14  Effective Date                             450 non-null    object \n",
      " 15  Total Savings                              450 non-null    float64\n",
      " 16  Savings from beginning receiving benefits  450 non-null    float64\n",
      " 17  Borough                                    450 non-null    object \n",
      " 18  Latitude                                   409 non-null    float64\n",
      " 19  Longitude                                  409 non-null    float64\n",
      " 20  Community Board                            409 non-null    float64\n",
      " 21  Council District                           409 non-null    float64\n",
      " 22  Census Tract                               409 non-null    float64\n",
      " 23  BIN                                        401 non-null    float64\n",
      " 24  BBL                                        401 non-null    float64\n",
      " 25  NTA                                        409 non-null    object \n",
      "dtypes: float64(12), int64(1), object(13)\n",
      "memory usage: 91.5+ KB\n"
     ]
    }
   ],
   "source": [
    "df.info()"
   ]
  },
  {
   "cell_type": "code",
   "execution_count": 4,
   "id": "72bc3c78",
   "metadata": {},
   "outputs": [
    {
     "data": {
      "text/plain": [
       "(450, 26)"
      ]
     },
     "execution_count": 4,
     "metadata": {},
     "output_type": "execute_result"
    }
   ],
   "source": [
    "df.shape"
   ]
  },
  {
   "cell_type": "code",
   "execution_count": 5,
   "id": "22d4df19",
   "metadata": {},
   "outputs": [
    {
     "data": {
      "text/html": [
       "<div>\n",
       "<style scoped>\n",
       "    .dataframe tbody tr th:only-of-type {\n",
       "        vertical-align: middle;\n",
       "    }\n",
       "\n",
       "    .dataframe tbody tr th {\n",
       "        vertical-align: top;\n",
       "    }\n",
       "\n",
       "    .dataframe thead th {\n",
       "        text-align: right;\n",
       "    }\n",
       "</style>\n",
       "<table border=\"1\" class=\"dataframe\">\n",
       "  <thead>\n",
       "    <tr style=\"text-align: right;\">\n",
       "      <th></th>\n",
       "      <th>Company Name</th>\n",
       "      <th>company contact</th>\n",
       "      <th>company email</th>\n",
       "      <th>company phone</th>\n",
       "      <th>Address</th>\n",
       "      <th>City</th>\n",
       "      <th>State</th>\n",
       "      <th>Postcode</th>\n",
       "      <th>Industry</th>\n",
       "      <th>Industry descr</th>\n",
       "      <th>...</th>\n",
       "      <th>Savings from beginning receiving benefits</th>\n",
       "      <th>Borough</th>\n",
       "      <th>Latitude</th>\n",
       "      <th>Longitude</th>\n",
       "      <th>Community Board</th>\n",
       "      <th>Council District</th>\n",
       "      <th>Census Tract</th>\n",
       "      <th>BIN</th>\n",
       "      <th>BBL</th>\n",
       "      <th>NTA</th>\n",
       "    </tr>\n",
       "  </thead>\n",
       "  <tbody>\n",
       "    <tr>\n",
       "      <th>0</th>\n",
       "      <td>1 State Street</td>\n",
       "      <td>David Neiburg</td>\n",
       "      <td>eskoblo@energyspec.com</td>\n",
       "      <td>7186779077</td>\n",
       "      <td>1114 Avenue J</td>\n",
       "      <td>Brooklyn</td>\n",
       "      <td>NY</td>\n",
       "      <td>11230</td>\n",
       "      <td>Commercial</td>\n",
       "      <td>35 story building</td>\n",
       "      <td>...</td>\n",
       "      <td>349.78</td>\n",
       "      <td>Brooklyn</td>\n",
       "      <td>40.624784</td>\n",
       "      <td>-73.964920</td>\n",
       "      <td>314.0</td>\n",
       "      <td>44.0</td>\n",
       "      <td>534.0</td>\n",
       "      <td>3179818.0</td>\n",
       "      <td>3.067130e+09</td>\n",
       "      <td>Midwood</td>\n",
       "    </tr>\n",
       "    <tr>\n",
       "      <th>1</th>\n",
       "      <td>100 Church LLC</td>\n",
       "      <td>Edward A. Carroll</td>\n",
       "      <td>NaN</td>\n",
       "      <td>2125663000</td>\n",
       "      <td>100 Church Street</td>\n",
       "      <td>NY</td>\n",
       "      <td>NY</td>\n",
       "      <td>10007</td>\n",
       "      <td>Commercial</td>\n",
       "      <td>21 Floors</td>\n",
       "      <td>...</td>\n",
       "      <td>4423698.05</td>\n",
       "      <td>New York</td>\n",
       "      <td>40.712968</td>\n",
       "      <td>-74.009490</td>\n",
       "      <td>101.0</td>\n",
       "      <td>1.0</td>\n",
       "      <td>21.0</td>\n",
       "      <td>1001409.0</td>\n",
       "      <td>1.001250e+09</td>\n",
       "      <td>SoHo-TriBeCa-Civic Center-Little Italy</td>\n",
       "    </tr>\n",
       "    <tr>\n",
       "      <th>2</th>\n",
       "      <td>100 Wall Investments</td>\n",
       "      <td>Jerry Branam</td>\n",
       "      <td>NaN</td>\n",
       "      <td>2122487160</td>\n",
       "      <td>96 Wall Street</td>\n",
       "      <td>New York</td>\n",
       "      <td>NY</td>\n",
       "      <td>10005</td>\n",
       "      <td>Landlord</td>\n",
       "      <td>NaN</td>\n",
       "      <td>...</td>\n",
       "      <td>1814542.62</td>\n",
       "      <td>New York</td>\n",
       "      <td>40.705052</td>\n",
       "      <td>-74.007199</td>\n",
       "      <td>101.0</td>\n",
       "      <td>1.0</td>\n",
       "      <td>7.0</td>\n",
       "      <td>1000875.0</td>\n",
       "      <td>1.000380e+09</td>\n",
       "      <td>Battery Park City-Lower Manhattan</td>\n",
       "    </tr>\n",
       "    <tr>\n",
       "      <th>3</th>\n",
       "      <td>1-10 Bush Terminal Owner LP</td>\n",
       "      <td>Andrew Kimball</td>\n",
       "      <td>akimball@industrycity.com</td>\n",
       "      <td>3474178429</td>\n",
       "      <td>220 36th St, Suite 2A</td>\n",
       "      <td>Brooklyn</td>\n",
       "      <td>NY</td>\n",
       "      <td>11232</td>\n",
       "      <td>Landlord</td>\n",
       "      <td>Special Eligible Premises for eligible businesses</td>\n",
       "      <td>...</td>\n",
       "      <td>6755.31</td>\n",
       "      <td>Brooklyn</td>\n",
       "      <td>40.656061</td>\n",
       "      <td>-74.007334</td>\n",
       "      <td>307.0</td>\n",
       "      <td>38.0</td>\n",
       "      <td>2.0</td>\n",
       "      <td>3398687.0</td>\n",
       "      <td>3.006950e+09</td>\n",
       "      <td>Sunset Park West</td>\n",
       "    </tr>\n",
       "    <tr>\n",
       "      <th>4</th>\n",
       "      <td>120 Broadway Acquisitions JV, LLC (Ldmk)</td>\n",
       "      <td>Carl Letich</td>\n",
       "      <td>clettich@silvprop.com</td>\n",
       "      <td>2124064020</td>\n",
       "      <td>120 Broadway</td>\n",
       "      <td>New York</td>\n",
       "      <td>NY</td>\n",
       "      <td>10271</td>\n",
       "      <td>Commercial</td>\n",
       "      <td>NaN</td>\n",
       "      <td>...</td>\n",
       "      <td>3293055.08</td>\n",
       "      <td>New York</td>\n",
       "      <td>40.708546</td>\n",
       "      <td>-74.011041</td>\n",
       "      <td>101.0</td>\n",
       "      <td>1.0</td>\n",
       "      <td>7.0</td>\n",
       "      <td>1001026.0</td>\n",
       "      <td>1.000478e+09</td>\n",
       "      <td>Battery Park City-Lower Manhattan</td>\n",
       "    </tr>\n",
       "  </tbody>\n",
       "</table>\n",
       "<p>5 rows × 26 columns</p>\n",
       "</div>"
      ],
      "text/plain": [
       "                               Company Name    company contact  \\\n",
       "0                            1 State Street      David Neiburg   \n",
       "1                            100 Church LLC  Edward A. Carroll   \n",
       "2                      100 Wall Investments       Jerry Branam   \n",
       "3               1-10 Bush Terminal Owner LP     Andrew Kimball   \n",
       "4  120 Broadway Acquisitions JV, LLC (Ldmk)        Carl Letich   \n",
       "\n",
       "               company email company phone                Address      City  \\\n",
       "0     eskoblo@energyspec.com    7186779077          1114 Avenue J  Brooklyn   \n",
       "1                        NaN    2125663000      100 Church Street        NY   \n",
       "2                        NaN    2122487160         96 Wall Street  New York   \n",
       "3  akimball@industrycity.com    3474178429  220 36th St, Suite 2A  Brooklyn   \n",
       "4      clettich@silvprop.com    2124064020           120 Broadway  New York   \n",
       "\n",
       "  State  Postcode    Industry  \\\n",
       "0    NY     11230  Commercial   \n",
       "1    NY     10007  Commercial   \n",
       "2    NY     10005    Landlord   \n",
       "3    NY     11232    Landlord   \n",
       "4    NY     10271  Commercial   \n",
       "\n",
       "                                      Industry descr  ...  \\\n",
       "0                                  35 story building  ...   \n",
       "1                                          21 Floors  ...   \n",
       "2                                                NaN  ...   \n",
       "3  Special Eligible Premises for eligible businesses  ...   \n",
       "4                                                NaN  ...   \n",
       "\n",
       "  Savings from beginning receiving benefits   Borough   Latitude  Longitude  \\\n",
       "0                                    349.78  Brooklyn  40.624784 -73.964920   \n",
       "1                                4423698.05  New York  40.712968 -74.009490   \n",
       "2                                1814542.62  New York  40.705052 -74.007199   \n",
       "3                                   6755.31  Brooklyn  40.656061 -74.007334   \n",
       "4                                3293055.08  New York  40.708546 -74.011041   \n",
       "\n",
       "  Community Board  Council District  Census Tract        BIN           BBL  \\\n",
       "0           314.0              44.0         534.0  3179818.0  3.067130e+09   \n",
       "1           101.0               1.0          21.0  1001409.0  1.001250e+09   \n",
       "2           101.0               1.0           7.0  1000875.0  1.000380e+09   \n",
       "3           307.0              38.0           2.0  3398687.0  3.006950e+09   \n",
       "4           101.0               1.0           7.0  1001026.0  1.000478e+09   \n",
       "\n",
       "                                      NTA  \n",
       "0                                 Midwood  \n",
       "1  SoHo-TriBeCa-Civic Center-Little Italy  \n",
       "2       Battery Park City-Lower Manhattan  \n",
       "3                        Sunset Park West  \n",
       "4       Battery Park City-Lower Manhattan  \n",
       "\n",
       "[5 rows x 26 columns]"
      ]
     },
     "execution_count": 5,
     "metadata": {},
     "output_type": "execute_result"
    }
   ],
   "source": [
    "df.head()"
   ]
  },
  {
   "cell_type": "markdown",
   "id": "f4323e17",
   "metadata": {},
   "source": [
    "### How many different companies are represented in the data set?"
   ]
  },
  {
   "cell_type": "code",
   "execution_count": 6,
   "id": "cdfe8a24",
   "metadata": {},
   "outputs": [
    {
     "data": {
      "text/plain": [
       "439"
      ]
     },
     "execution_count": 6,
     "metadata": {},
     "output_type": "execute_result"
    }
   ],
   "source": [
    "counts = df[\"Company Name\"].nunique()\n",
    "counts"
   ]
  },
  {
   "cell_type": "markdown",
   "id": "00fed6a3",
   "metadata": {},
   "source": [
    "### How many different unique email domains names are there in the data set?"
   ]
  },
  {
   "cell_type": "code",
   "execution_count": 7,
   "id": "9cdaa93d",
   "metadata": {
    "scrolled": true
   },
   "outputs": [
    {
     "data": {
      "text/plain": [
       "420"
      ]
     },
     "execution_count": 7,
     "metadata": {},
     "output_type": "execute_result"
    }
   ],
   "source": [
    "counts = df[\"company email\"].nunique()\n",
    "counts"
   ]
  },
  {
   "cell_type": "markdown",
   "id": "56162723",
   "metadata": {},
   "source": [
    "### What is the total number of jobs created for businesses in Queens?"
   ]
  },
  {
   "cell_type": "code",
   "execution_count": 8,
   "id": "d3bfe3f7",
   "metadata": {},
   "outputs": [
    {
     "data": {
      "text/plain": [
       "array(['Brooklyn', 'New York', 'Queens', 'Staten Island', 'Bronx'],\n",
       "      dtype=object)"
      ]
     },
     "execution_count": 8,
     "metadata": {},
     "output_type": "execute_result"
    }
   ],
   "source": [
    "# Queens is on of subcategory of columns \"Borough\" so we have to split that part \n",
    "# by mask and then groupby column \"Job created\n",
    "df[\"Borough\"].unique()"
   ]
  },
  {
   "cell_type": "code",
   "execution_count": 9,
   "id": "1f361061",
   "metadata": {},
   "outputs": [
    {
     "data": {
      "text/plain": [
       "Borough\n",
       "True    102.0\n",
       "Name: Job created, dtype: float64"
      ]
     },
     "execution_count": 9,
     "metadata": {},
     "output_type": "execute_result"
    }
   ],
   "source": [
    "Mask_dist = df[\"Borough\"] == \"Queens\"\n",
    "df = df[Mask_dist]\n",
    "\n",
    "df.groupby(Mask_dist)[\"Job created\"].sum()"
   ]
  },
  {
   "cell_type": "markdown",
   "id": "aaaf4119",
   "metadata": {},
   "source": [
    "### Considering only NTAs with at least 5 listed businesses, what is the average total savings and the total jobs created for each NTA?"
   ]
  },
  {
   "cell_type": "code",
   "execution_count": 10,
   "id": "cc868c1e",
   "metadata": {},
   "outputs": [
    {
     "data": {
      "text/html": [
       "<div>\n",
       "<style scoped>\n",
       "    .dataframe tbody tr th:only-of-type {\n",
       "        vertical-align: middle;\n",
       "    }\n",
       "\n",
       "    .dataframe tbody tr th {\n",
       "        vertical-align: top;\n",
       "    }\n",
       "\n",
       "    .dataframe thead th {\n",
       "        text-align: right;\n",
       "    }\n",
       "</style>\n",
       "<table border=\"1\" class=\"dataframe\">\n",
       "  <thead>\n",
       "    <tr style=\"text-align: right;\">\n",
       "      <th></th>\n",
       "      <th>Total Savings</th>\n",
       "      <th>Job created</th>\n",
       "    </tr>\n",
       "    <tr>\n",
       "      <th>NTA_mod</th>\n",
       "      <th></th>\n",
       "      <th></th>\n",
       "    </tr>\n",
       "  </thead>\n",
       "  <tbody>\n",
       "    <tr>\n",
       "      <th>Brookville</th>\n",
       "      <td>17757.662000</td>\n",
       "      <td>0.0</td>\n",
       "    </tr>\n",
       "    <tr>\n",
       "      <th>College Point</th>\n",
       "      <td>17159.372857</td>\n",
       "      <td>2.0</td>\n",
       "    </tr>\n",
       "    <tr>\n",
       "      <th>Hunters Point</th>\n",
       "      <td>23931.398933</td>\n",
       "      <td>0.0</td>\n",
       "    </tr>\n",
       "    <tr>\n",
       "      <th>Long Island City</th>\n",
       "      <td>61830.770625</td>\n",
       "      <td>0.0</td>\n",
       "    </tr>\n",
       "    <tr>\n",
       "      <th>Maspeth</th>\n",
       "      <td>7828.552000</td>\n",
       "      <td>10.0</td>\n",
       "    </tr>\n",
       "    <tr>\n",
       "      <th>Queensbridge</th>\n",
       "      <td>61830.770625</td>\n",
       "      <td>0.0</td>\n",
       "    </tr>\n",
       "    <tr>\n",
       "      <th>Ravenswood</th>\n",
       "      <td>61830.770625</td>\n",
       "      <td>0.0</td>\n",
       "    </tr>\n",
       "    <tr>\n",
       "      <th>Springfield Gardens South</th>\n",
       "      <td>17757.662000</td>\n",
       "      <td>0.0</td>\n",
       "    </tr>\n",
       "    <tr>\n",
       "      <th>Steinway</th>\n",
       "      <td>11227.155714</td>\n",
       "      <td>20.0</td>\n",
       "    </tr>\n",
       "    <tr>\n",
       "      <th>Sunnyside</th>\n",
       "      <td>23931.398933</td>\n",
       "      <td>0.0</td>\n",
       "    </tr>\n",
       "    <tr>\n",
       "      <th>West Maspeth</th>\n",
       "      <td>23931.398933</td>\n",
       "      <td>0.0</td>\n",
       "    </tr>\n",
       "  </tbody>\n",
       "</table>\n",
       "</div>"
      ],
      "text/plain": [
       "                           Total Savings  Job created\n",
       "NTA_mod                                              \n",
       "Brookville                  17757.662000          0.0\n",
       "College Point               17159.372857          2.0\n",
       "Hunters Point               23931.398933          0.0\n",
       "Long Island City            61830.770625          0.0\n",
       "Maspeth                      7828.552000         10.0\n",
       "Queensbridge                61830.770625          0.0\n",
       "Ravenswood                  61830.770625          0.0\n",
       "Springfield Gardens South   17757.662000          0.0\n",
       "Steinway                    11227.155714         20.0\n",
       "Sunnyside                   23931.398933          0.0\n",
       "West Maspeth                23931.398933          0.0"
      ]
     },
     "execution_count": 10,
     "metadata": {},
     "output_type": "execute_result"
    }
   ],
   "source": [
    "df['NTA_mod']=df['NTA'].str.split('-')\n",
    "df=df.explode('NTA_mod').reset_index(drop=True)\n",
    "\n",
    "df_NTA_grp=df.groupby(['NTA_mod'])\n",
    "df_ge_5 = df_NTA_grp.filter(lambda x: len(x) >= 5)\n",
    "\n",
    "df_ge_5.groupby('NTA_mod').agg({ \n",
    "    'Total Savings': 'mean',\n",
    "    'Job created': 'sum',\n",
    "})"
   ]
  },
  {
   "cell_type": "markdown",
   "id": "75e154cc",
   "metadata": {},
   "source": [
    "### Save your result for the previous question as a CSV file."
   ]
  },
  {
   "cell_type": "code",
   "execution_count": 11,
   "id": "c28c10cb",
   "metadata": {},
   "outputs": [],
   "source": [
    "df.to_csv(\"D:\\TDI\\Capston_Project\\df_ge_5.csv\")\n"
   ]
  },
  {
   "cell_type": "markdown",
   "id": "848b5e3c",
   "metadata": {},
   "source": [
    "## Explore"
   ]
  },
  {
   "cell_type": "markdown",
   "id": "305e8110",
   "metadata": {},
   "source": [
    "### create a scatter plot of jobs created versus average savings. Use both a standard and a logarithmic scale for the average savings.\n"
   ]
  },
  {
   "cell_type": "markdown",
   "id": "1ab8ffeb",
   "metadata": {},
   "source": [
    "#### create a scatter plot of jobs created versus average savings using standard scale"
   ]
  },
  {
   "cell_type": "code",
   "execution_count": 12,
   "id": "33b78adb",
   "metadata": {},
   "outputs": [
    {
     "data": {
      "image/png": "[encoded data removed]",
      "text/plain": [
       "<Figure size 432x288 with 1 Axes>"
      ]
     },
     "metadata": {
      "needs_background": "light"
     },
     "output_type": "display_data"
    }
   ],
   "source": [
    "import matplotlib.pyplot as plt\n",
    "plt.scatter(x = df[\"Total Savings\"], y= df[\"Job created\"])\n",
    "plt.xlabel(\"Average Savings\")\n",
    "plt.ylabel(\"Jobs created\")\n",
    "plt.title(\"Jobs Created vs Average Saving\");"
   ]
  },
  {
   "cell_type": "markdown",
   "id": "04c6aed4",
   "metadata": {},
   "source": [
    "#### create a scatter plot of jobs created versus average savings using logaritmic scale"
   ]
  },
  {
   "cell_type": "code",
   "execution_count": 13,
   "id": "4bbb5741",
   "metadata": {},
   "outputs": [
    {
     "data": {
      "image/png": "[encoded data removed]",
      "text/plain": [
       "<Figure size 432x288 with 1 Axes>"
      ]
     },
     "metadata": {
      "needs_background": "light"
     },
     "output_type": "display_data"
    }
   ],
   "source": [
    "plt.scatter(x = df[\"Total Savings\"], y= df[\"Job created\"])\n",
    "plt.xlabel(\"Average Savings\")\n",
    "plt.ylabel(\"Jobs created\")\n",
    "plt.title(\"Jobs Created vs Average Saving\");\n",
    "plt.xscale(\"log\")\n",
    "plt.plot()\n",
    "plt.show()"
   ]
  },
  {
   "cell_type": "markdown",
   "id": "e05ba683",
   "metadata": {},
   "source": [
    "### histogram of the log of the average total savings."
   ]
  },
  {
   "cell_type": "code",
   "execution_count": 14,
   "id": "b7809e0d",
   "metadata": {},
   "outputs": [
    {
     "data": {
      "image/png": "[encoded data removed]",
      "text/plain": [
       "<Figure size 432x288 with 1 Axes>"
      ]
     },
     "metadata": {
      "needs_background": "light"
     },
     "output_type": "display_data"
    }
   ],
   "source": [
    "plt.hist(df['Total Savings'], log=True)\n",
    "plt.xlabel(\"Average Savings\")\n",
    "plt.ylabel(\"Jobs created\")\n",
    "plt.title(\"Jobs Created vs Average Saving\");"
   ]
  },
  {
   "cell_type": "markdown",
   "id": "ae140cec",
   "metadata": {},
   "source": [
    "#### As you see in histogram, there is skewness in distribution of the data, so I decided to know more  about its descriptive Stat"
   ]
  },
  {
   "cell_type": "code",
   "execution_count": 15,
   "id": "89f53dd3",
   "metadata": {
    "scrolled": true
   },
   "outputs": [
    {
     "data": {
      "text/plain": [
       "count       364.000000\n",
       "mean      27811.603874\n",
       "std       99335.732420\n",
       "min         -30.820000\n",
       "25%        2177.285000\n",
       "50%        6615.250000\n",
       "75%       18951.440000\n",
       "max      759480.440000\n",
       "Name: Total Savings, dtype: float64"
      ]
     },
     "execution_count": 15,
     "metadata": {},
     "output_type": "execute_result"
    }
   ],
   "source": [
    "df[\"Total Savings\"].describe()"
   ]
  },
  {
   "cell_type": "markdown",
   "id": "3c7c2091",
   "metadata": {},
   "source": [
    "#### Descriptive Stat shows that std is far more larger than mean in \"Total Savings\" which indicate there is outliers in dataset so I decided to drop 10 percent of the min and max of the data"
   ]
  },
  {
   "cell_type": "markdown",
   "id": "33a319d2",
   "metadata": {},
   "source": [
    "### Data Wrangling"
   ]
  },
  {
   "cell_type": "markdown",
   "id": "b0ebc3d2",
   "metadata": {},
   "source": [
    "#### Check the bottom and top part of data that we want to drop"
   ]
  },
  {
   "cell_type": "code",
   "execution_count": 16,
   "id": "04d2df81",
   "metadata": {},
   "outputs": [
    {
     "data": {
      "text/plain": [
       "0.1      823.521\n",
       "0.9    39801.680\n",
       "Name: Total Savings, dtype: float64"
      ]
     },
     "execution_count": 16,
     "metadata": {},
     "output_type": "execute_result"
    }
   ],
   "source": [
    "df[\"Total Savings\"].quantile([0.1, 0.9])"
   ]
  },
  {
   "cell_type": "markdown",
   "id": "aef4dd1b",
   "metadata": {},
   "source": [
    "#### Define a mask "
   ]
  },
  {
   "cell_type": "code",
   "execution_count": 17,
   "id": "e73275f4",
   "metadata": {},
   "outputs": [
    {
     "data": {
      "text/plain": [
       "0    True\n",
       "1    True\n",
       "2    True\n",
       "3    True\n",
       "4    True\n",
       "Name: Total Savings, dtype: bool"
      ]
     },
     "execution_count": 17,
     "metadata": {},
     "output_type": "execute_result"
    }
   ],
   "source": [
    "low, high =df[\"Total Savings\"].quantile([0.1, 0.9])\n",
    "mask_savings = df[\"Total Savings\"].between(low, high)\n",
    "mask_savings.head()"
   ]
  },
  {
   "cell_type": "markdown",
   "id": "6277e984",
   "metadata": {},
   "source": [
    "#### Define a function name \"wrangle\" and put the \"mask_saving\" on it"
   ]
  },
  {
   "cell_type": "code",
   "execution_count": 18,
   "id": "2a6e3af5",
   "metadata": {},
   "outputs": [],
   "source": [
    "# remove outlier by defining a function as wrangle\n",
    "def wrangle(filepath):\n",
    "    df = pd.read_csv(filepath)\n",
    "    low, high =df[\"Total Savings\"].quantile([0.1, 0.9])\n",
    "    mask_area = df[\"Total Savings\"].between(low, high)\n",
    "    df = df[mask_area]\n",
    "    return df"
   ]
  },
  {
   "cell_type": "code",
   "execution_count": 19,
   "id": "5c9a81b1",
   "metadata": {},
   "outputs": [],
   "source": [
    "df = wrangle (\"https://data.cityofnewyork.us/api/views/bug8-9f3g/rows.csv?accessType=DOWNLOAD\")"
   ]
  },
  {
   "cell_type": "markdown",
   "id": "c752484b",
   "metadata": {},
   "source": [
    "#### Histogram after romoving outlier"
   ]
  },
  {
   "cell_type": "code",
   "execution_count": 20,
   "id": "d260a29f",
   "metadata": {},
   "outputs": [
    {
     "data": {
      "image/png": "[encoded data removed]",
      "text/plain": [
       "<Figure size 432x288 with 1 Axes>"
      ]
     },
     "metadata": {
      "needs_background": "light"
     },
     "output_type": "display_data"
    }
   ],
   "source": [
    "plt.hist(df[\"Total Savings\"])\n",
    "plt.xlabel(\"Average Savings\")\n",
    "plt.ylabel(\"Jobs created\")\n",
    "plt.title(\"Jobs Created vs Average Saving\");"
   ]
  },
  {
   "cell_type": "markdown",
   "id": "276bd087",
   "metadata": {},
   "source": [
    "### line plot of the total jobs created for each month."
   ]
  },
  {
   "cell_type": "markdown",
   "id": "db4cd77a",
   "metadata": {},
   "source": [
    "#### Extract month from \"Effective Date\" column and add total jobs created in each month "
   ]
  },
  {
   "cell_type": "code",
   "execution_count": 21,
   "id": "ebdda561",
   "metadata": {
    "scrolled": true
   },
   "outputs": [
    {
     "data": {
      "text/plain": [
       "month\n",
       "1      0.0\n",
       "2     15.0\n",
       "3     10.0\n",
       "4      0.0\n",
       "5      2.0\n",
       "6     60.0\n",
       "7     20.0\n",
       "8      0.0\n",
       "9      0.0\n",
       "10     0.0\n",
       "11     5.0\n",
       "12    10.0\n",
       "Name: Job created, dtype: float64"
      ]
     },
     "execution_count": 21,
     "metadata": {},
     "output_type": "execute_result"
    }
   ],
   "source": [
    "df['Effective Date'] = pd.to_datetime(df['Effective Date'])\n",
    "df['month'] = df['Effective Date'].dt.month\n",
    "df = df.groupby(df.month)['Job created'].sum()\n",
    "df"
   ]
  },
  {
   "cell_type": "code",
   "execution_count": 22,
   "id": "53723b77",
   "metadata": {
    "scrolled": true
   },
   "outputs": [
    {
     "data": {
      "image/png": "[encoded data removed]",
      "text/plain": [
       "<Figure size 432x288 with 1 Axes>"
      ]
     },
     "metadata": {
      "needs_background": "light"
     },
     "output_type": "display_data"
    }
   ],
   "source": [
    "x = np.arange(1, 13)\n",
    "y = np.array([0, 15, 10, 0, 2, 60, 20, 0, 0, 0, 5, 10])\n",
    "  \n",
    "# plot line\n",
    "plt.plot(x, y, color = \"green\")\n",
    "plt.xlabel('month')\n",
    "plt.ylabel('Job created')\n",
    "plt.title('Simple Line Plot')\n",
    "plt.show()"
   ]
  },
  {
   "cell_type": "markdown",
   "id": "7d260663",
   "metadata": {},
   "source": [
    "## Comment for my Instructor "
   ]
  },
  {
   "cell_type": "markdown",
   "id": "f622b477",
   "metadata": {
    "tags": []
   },
   "source": [
    "### I tried to do my best, but to be honest, I search every where like google, stackoverflow to solve my problem, I totally understand what I did but this not me do it in half a day, I spent a week to answer whole question. I hope that I could pass through whole bootcamp. please comment me if you have any sugestion\n",
    "\n",
    "\n",
    "##### Thanks\n",
    "##### Hadi Radnezhad\n",
    "###### Email: radnezhad.hadi@gmail.com"
   ]
  }
 ],
 "metadata": {
  "kernelspec": {
   "display_name": "Python 3 (ipykernel)",
   "language": "python",
   "name": "python3"
  },
  "language_info": {
   "codemirror_mode": {
    "name": "ipython",
    "version": 3
   },
   "file_extension": ".py",
   "mimetype": "text/x-python",
   "name": "python",
   "nbconvert_exporter": "python",
   "pygments_lexer": "ipython3",
   "version": "3.9.12"
  }
 },
 "nbformat": 4,
 "nbformat_minor": 5
}
